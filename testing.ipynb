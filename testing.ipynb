{
 "cells": [
  {
   "cell_type": "markdown",
   "metadata": {},
   "source": [
    "### TESTEANDO JUPYTER\n",
    "\n",
    "Vamos a analizar la estadística de valores de la constante de aceleración gravitacional, obtenidos a partir de tirar una regla al piso.\n",
    "\n",
    "Se sabe que la constante de aceleración gravitacional *g* es:\n",
    "\n",
    "$g = \\frac{GM_{\\text{tierra}}}{R_{\\text{tierra}}^2} \\approx 9.8~~m~s^2$\n",
    "\n",
    "La idea es hallar el mejor estimador de *g*, junto a su varianza y el histograma de las mediciones.\n",
    "Para ello nos vamos a basar en el script de Python que vamos a ver a continuación. \n",
    "\n",
    "**Para poder ir ejecutando cada parte, simplemente ir presionando el botón RUN en la barra de herramientas.**\n",
    "\n",
    "En primer lugar vamos a importar algunas librerías que contienen funciones programadas que nos van a ayudar para poder trabajar. "
   ]
  },
  {
   "cell_type": "code",
   "execution_count": 14,
   "metadata": {},
   "outputs": [],
   "source": [
    "import matplotlib.pyplot as plt\n",
    "import numpy as np"
   ]
  },
  {
   "cell_type": "markdown",
   "metadata": {},
   "source": [
    "En primer lugar hay que colocar los datos medidos. Para ello vamos a definir una variable (que llamamos *datos*) donde vamos a colocar los mismos con la siguiente sintaxis: \n",
    "\n",
    "datos = [valor1,valor2,.....,valorN]; \n",
    "\n"
   ]
  },
  {
   "cell_type": "code",
   "execution_count": 6,
   "metadata": {},
   "outputs": [],
   "source": [
    "datos=[9.655, 9.862, 9.683, 9.697, 9.733, 9.697, 9.922, 10.01, 9.755 ,9.692, 9.864, 9.905, 9.943, 9.898, 9.876, 9.873, 9.699, 9.874, 9.725, 9.718, 9.866, 9.903];"
   ]
  },
  {
   "cell_type": "markdown",
   "metadata": {},
   "source": [
    "Tenemos los datos cargados. Vamos a graficarlos:"
   ]
  },
  {
   "cell_type": "code",
   "execution_count": 10,
   "metadata": {},
   "outputs": [
    {
     "data": {
      "image/png": "[encoded data removed]",
      "text/plain": [
       "<Figure size 432x288 with 1 Axes>"
      ]
     },
     "metadata": {
      "needs_background": "light"
     },
     "output_type": "display_data"
    }
   ],
   "source": [
    "plt.plot(datos,'*');\n",
    "plt.xlabel('Numero de dato');\n",
    "plt.ylabel('Valor de g [m/s2]');"
   ]
  },
  {
   "cell_type": "markdown",
   "metadata": {},
   "source": [
    "Lo anterior nos muestra los datos. Como se puede observar los mismos son diferentes, debido a la incertidumbre y la no repetitibilidad del experimento.\n",
    "\n",
    "Hallemos ahora el mejor estimador (que es el promedio) y la desviación estándar de esta serie de datos."
   ]
  },
  {
   "cell_type": "code",
   "execution_count": 15,
   "metadata": {},
   "outputs": [
    {
     "name": "stdout",
     "output_type": "stream",
     "text": [
      "El promedio de los datos es 9.811363636363636\n",
      "La desviación estándar de los datos es 0.10299317958642859\n"
     ]
    }
   ],
   "source": [
    "print(\"El promedio de los datos es \" + str(np.mean(datos)))\n",
    "print(\"La desviación estándar de los datos es \" + str(np.std(datos)))"
   ]
  },
  {
   "cell_type": "markdown",
   "metadata": {},
   "source": [
    "Hagamos un histograma:"
   ]
  },
  {
   "cell_type": "code",
   "execution_count": 18,
   "metadata": {},
   "outputs": [
    {
     "data": {
      "image/png": "[encoded data removed]",
      "text/plain": [
       "<Figure size 432x288 with 1 Axes>"
      ]
     },
     "metadata": {
      "needs_background": "light"
     },
     "output_type": "display_data"
    }
   ],
   "source": [
    "plt.hist(datos,bins=10);"
   ]
  },
  {
   "cell_type": "code",
   "execution_count": null,
   "metadata": {},
   "outputs": [],
   "source": []
  }
 ],
 "metadata": {
  "kernelspec": {
   "display_name": "Python 3",
   "language": "python",
   "name": "python3"
  },
  "language_info": {
   "codemirror_mode": {
    "name": "ipython",
    "version": 3
   },
   "file_extension": ".py",
   "mimetype": "text/x-python",
   "name": "python",
   "nbconvert_exporter": "python",
   "pygments_lexer": "ipython3",
   "version": "3.6.8"
  }
 },
 "nbformat": 4,
 "nbformat_minor": 2
}
